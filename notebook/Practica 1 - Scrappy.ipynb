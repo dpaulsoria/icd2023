{
 "cells": [
  {
   "cell_type": "code",
   "execution_count": 1,
   "id": "28bf0cca",
   "metadata": {},
   "outputs": [],
   "source": [
    "from selenium import webdriver\n",
    "# from selenium.webdriver import \n",
    "\n",
    "driver_path = './chromedriver'\n",
    "\n",
    "driver = webdriver.Chrome(executable_path=driver_path)\n",
    "\n",
    "driver.get(\"https://books.toscrape.com/\")\n",
    "\n",
    "\n",
    "\n"
   ]
  },
  {
   "cell_type": "code",
   "execution_count": 38,
   "id": "79b253ad",
   "metadata": {},
   "outputs": [],
   "source": [
    "import json\n",
    "# import unicodedata"
   ]
  },
  {
   "cell_type": "code",
   "execution_count": 48,
   "id": "ca9d3ff3",
   "metadata": {},
   "outputs": [],
   "source": [
    "tmp = driver.find_elements_by_css_selector(\"ol.row\")"
   ]
  },
  {
   "cell_type": "code",
   "execution_count": 49,
   "id": "322599da",
   "metadata": {},
   "outputs": [
    {
     "name": "stdout",
     "output_type": "stream",
     "text": [
      "{\n",
      "  \"A Light in the ...\": {\n",
      "    \"type\": \"Euro\",\n",
      "    \"value\": \"£51.77\"\n",
      "  },\n",
      "  \"Tipping the Velvet\": {\n",
      "    \"type\": \"Euro\",\n",
      "    \"value\": \"£53.74\"\n",
      "  },\n",
      "  \"Soumission\": {\n",
      "    \"type\": \"Euro\",\n",
      "    \"value\": \"£50.10\"\n",
      "  },\n",
      "  \"Sharp Objects\": {\n",
      "    \"type\": \"Euro\",\n",
      "    \"value\": \"£47.82\"\n",
      "  },\n",
      "  \"Sapiens: A Brief History ...\": {\n",
      "    \"type\": \"Euro\",\n",
      "    \"value\": \"£54.23\"\n",
      "  },\n",
      "  \"The Requiem Red\": {\n",
      "    \"type\": \"Euro\",\n",
      "    \"value\": \"£22.65\"\n",
      "  },\n",
      "  \"The Dirty Little Secrets ...\": {\n",
      "    \"type\": \"Euro\",\n",
      "    \"value\": \"£33.34\"\n",
      "  },\n",
      "  \"The Coming Woman: A ...\": {\n",
      "    \"type\": \"Euro\",\n",
      "    \"value\": \"£17.93\"\n",
      "  },\n",
      "  \"The Boys in the ...\": {\n",
      "    \"type\": \"Euro\",\n",
      "    \"value\": \"£22.60\"\n",
      "  },\n",
      "  \"The Black Maria\": {\n",
      "    \"type\": \"Euro\",\n",
      "    \"value\": \"£52.15\"\n",
      "  },\n",
      "  \"Starving Hearts (Triangular Trade ...\": {\n",
      "    \"type\": \"Euro\",\n",
      "    \"value\": \"£13.99\"\n",
      "  },\n",
      "  \"Shakespeare's Sonnets\": {\n",
      "    \"type\": \"Euro\",\n",
      "    \"value\": \"£20.66\"\n",
      "  },\n",
      "  \"Set Me Free\": {\n",
      "    \"type\": \"Euro\",\n",
      "    \"value\": \"£17.46\"\n",
      "  },\n",
      "  \"Scott Pilgrim's Precious Little ...\": {\n",
      "    \"type\": \"Euro\",\n",
      "    \"value\": \"£52.29\"\n",
      "  },\n",
      "  \"Rip it Up and ...\": {\n",
      "    \"type\": \"Euro\",\n",
      "    \"value\": \"£35.02\"\n",
      "  },\n",
      "  \"Our Band Could Be ...\": {\n",
      "    \"type\": \"Euro\",\n",
      "    \"value\": \"£57.25\"\n",
      "  },\n",
      "  \"Olio\": {\n",
      "    \"type\": \"Euro\",\n",
      "    \"value\": \"£23.88\"\n",
      "  },\n",
      "  \"Mesaerion: The Best Science ...\": {\n",
      "    \"type\": \"Euro\",\n",
      "    \"value\": \"£37.59\"\n",
      "  },\n",
      "  \"Libertarianism for Beginners\": {\n",
      "    \"type\": \"Euro\",\n",
      "    \"value\": \"£51.33\"\n",
      "  },\n",
      "  \"It's Only the Himalayas\": {\n",
      "    \"type\": \"Euro\",\n",
      "    \"value\": \"£45.17\"\n",
      "  }\n",
      "}\n"
     ]
    }
   ],
   "source": [
    "x = dict()\n",
    "\n",
    "content = tmp[0].text.split(\"Add to basket\\n\")\n",
    "for i in content:\n",
    "    tmp = i.split(\"\\n\")\n",
    "    name = tmp[0]\n",
    "    # value = unicodedata.normalize(\"NFKD\", tmp[1])\n",
    "    value = tmp[1]\n",
    "    if name in x:\n",
    "        print(\"El nombre del libro ya está registrado:\", name)\n",
    "    else:\n",
    "        x[name] = {\n",
    "            \"type\": \"Euro\",\n",
    "            \"value\": value\n",
    "        }\n",
    "\n",
    "print(json.dumps(x, ensure_ascii=False, indent=2))"
   ]
  },
  {
   "cell_type": "code",
   "execution_count": null,
   "id": "ad155f33",
   "metadata": {},
   "outputs": [],
   "source": []
  }
 ],
 "metadata": {
  "kernelspec": {
   "display_name": "Python 3 (ipykernel)",
   "language": "python",
   "name": "python3"
  },
  "language_info": {
   "codemirror_mode": {
    "name": "ipython",
    "version": 3
   },
   "file_extension": ".py",
   "mimetype": "text/x-python",
   "name": "python",
   "nbconvert_exporter": "python",
   "pygments_lexer": "ipython3",
   "version": "3.11.5"
  }
 },
 "nbformat": 4,
 "nbformat_minor": 5
}
